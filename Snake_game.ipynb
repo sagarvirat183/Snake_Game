{
 "cells": [
  {
   "cell_type": "code",
   "execution_count": 1,
   "metadata": {},
   "outputs": [
    {
     "name": "stdout",
     "output_type": "stream",
     "text": [
      "Requirement already satisfied: pygame in c:\\users\\swathi-sagar\\anaconda3\\lib\\site-packages\n"
     ]
    },
    {
     "name": "stderr",
     "output_type": "stream",
     "text": [
      "You are using pip version 9.0.1, however version 20.2.3 is available.\n",
      "You should consider upgrading via the 'python -m pip install --upgrade pip' command.\n"
     ]
    }
   ],
   "source": [
    "!pip install pygame"
   ]
  },
  {
   "cell_type": "code",
   "execution_count": null,
   "metadata": {},
   "outputs": [
    {
     "name": "stdout",
     "output_type": "stream",
     "text": [
      "pygame 1.9.6\n",
      "Hello from the pygame community. https://www.pygame.org/contribute.html\n"
     ]
    },
    {
     "ename": "error",
     "evalue": "video system not initialized",
     "output_type": "error",
     "traceback": [
      "\u001b[1;31m---------------------------------------------------------------------------\u001b[0m",
      "\u001b[1;31merror\u001b[0m                                     Traceback (most recent call last)",
      "\u001b[1;32m<ipython-input-1-7cbb3e1f4ccc>\u001b[0m in \u001b[0;36m<module>\u001b[1;34m()\u001b[0m\n\u001b[0;32m    125\u001b[0m     \u001b[0mquit\u001b[0m\u001b[1;33m(\u001b[0m\u001b[1;33m)\u001b[0m\u001b[1;33m\u001b[0m\u001b[0m\n\u001b[0;32m    126\u001b[0m \u001b[1;33m\u001b[0m\u001b[0m\n\u001b[1;32m--> 127\u001b[1;33m \u001b[0mgameloop\u001b[0m\u001b[1;33m(\u001b[0m\u001b[1;33m)\u001b[0m\u001b[1;33m\u001b[0m\u001b[0m\n\u001b[0m\u001b[0;32m    128\u001b[0m \u001b[1;33m\u001b[0m\u001b[0m\n\u001b[0;32m    129\u001b[0m \u001b[1;33m\u001b[0m\u001b[0m\n",
      "\u001b[1;32m<ipython-input-1-7cbb3e1f4ccc>\u001b[0m in \u001b[0;36mgameloop\u001b[1;34m()\u001b[0m\n\u001b[0;32m     68\u001b[0m                     \u001b[1;32mif\u001b[0m \u001b[0mevent\u001b[0m\u001b[1;33m.\u001b[0m\u001b[0mkey\u001b[0m \u001b[1;33m==\u001b[0m \u001b[0mpygame\u001b[0m\u001b[1;33m.\u001b[0m\u001b[0mK_RETURN\u001b[0m\u001b[1;33m:\u001b[0m\u001b[1;33m\u001b[0m\u001b[0m\n\u001b[0;32m     69\u001b[0m                         \u001b[0mstart_on\u001b[0m \u001b[1;33m=\u001b[0m \u001b[1;32mFalse\u001b[0m\u001b[1;33m\u001b[0m\u001b[0m\n\u001b[1;32m---> 70\u001b[1;33m                         \u001b[0mgameloop\u001b[0m\u001b[1;33m(\u001b[0m\u001b[1;33m)\u001b[0m\u001b[1;33m\u001b[0m\u001b[0m\n\u001b[0m\u001b[0;32m     71\u001b[0m         \u001b[1;32melse\u001b[0m\u001b[1;33m:\u001b[0m\u001b[1;33m\u001b[0m\u001b[0m\n\u001b[0;32m     72\u001b[0m             \u001b[1;32mfor\u001b[0m \u001b[0mevent\u001b[0m \u001b[1;32min\u001b[0m \u001b[0mpygame\u001b[0m\u001b[1;33m.\u001b[0m\u001b[0mevent\u001b[0m\u001b[1;33m.\u001b[0m\u001b[0mget\u001b[0m\u001b[1;33m(\u001b[0m\u001b[1;33m)\u001b[0m\u001b[1;33m:\u001b[0m\u001b[1;33m\u001b[0m\u001b[0m\n",
      "\u001b[1;32m<ipython-input-1-7cbb3e1f4ccc>\u001b[0m in \u001b[0;36mgameloop\u001b[1;34m()\u001b[0m\n\u001b[0;32m    119\u001b[0m                 \u001b[0mgame_over\u001b[0m \u001b[1;33m=\u001b[0m \u001b[1;32mTrue\u001b[0m\u001b[1;33m\u001b[0m\u001b[0m\n\u001b[0;32m    120\u001b[0m             \u001b[0mplot_snake\u001b[0m\u001b[1;33m(\u001b[0m\u001b[0mgameWindow\u001b[0m\u001b[1;33m,\u001b[0m\u001b[0mblack\u001b[0m\u001b[1;33m,\u001b[0m\u001b[0msnk_list\u001b[0m\u001b[1;33m,\u001b[0m\u001b[0msnake_size\u001b[0m\u001b[1;33m)\u001b[0m\u001b[1;33m\u001b[0m\u001b[0m\n\u001b[1;32m--> 121\u001b[1;33m         \u001b[0mpygame\u001b[0m\u001b[1;33m.\u001b[0m\u001b[0mdisplay\u001b[0m\u001b[1;33m.\u001b[0m\u001b[0mupdate\u001b[0m\u001b[1;33m(\u001b[0m\u001b[1;33m)\u001b[0m\u001b[1;33m\u001b[0m\u001b[0m\n\u001b[0m\u001b[0;32m    122\u001b[0m         \u001b[0mclock\u001b[0m\u001b[1;33m.\u001b[0m\u001b[0mtick\u001b[0m\u001b[1;33m(\u001b[0m\u001b[0mfps\u001b[0m\u001b[1;33m)\u001b[0m\u001b[1;33m\u001b[0m\u001b[0m\n\u001b[0;32m    123\u001b[0m \u001b[1;33m\u001b[0m\u001b[0m\n",
      "\u001b[1;31merror\u001b[0m: video system not initialized"
     ]
    }
   ],
   "source": [
    "import pygame \n",
    "import random\n",
    "\n",
    "\n",
    "pygame.init()\n",
    "\n",
    "\n",
    "white = (255,255,255)\n",
    "red = (255,0,0)\n",
    "black = (0,0,0)\n",
    "\n",
    "\n",
    "screen_width = 900\n",
    "screen_height = 600\n",
    "gameWindow = pygame.display.set_mode((screen_width, screen_height))\n",
    "\n",
    "pygame.display.set_caption('Snake Game')\n",
    "pygame.display.update()\n",
    "clock = pygame.time.Clock()\n",
    "font = pygame.font.SysFont(None,55)\n",
    "#create a function to cunt score and how snake is plotted\n",
    "\n",
    "\n",
    "def text_screen(text, color,x,y):\n",
    "    screen_text = font.render(text,True , color)\n",
    "    gameWindow.blit(screen_text,[x,y])\n",
    "    \n",
    "\n",
    "def plot_snake(gameWindow,color,snk_list,snake_size):\n",
    "    for x,y in snk_list:\n",
    "        pygame.draw.rect(gameWindow,color,[x,y,snake_size,snake_size])\n",
    "        \n",
    "        \n",
    "        \n",
    "        \n",
    "def gameloop():\n",
    "    exit_game = False\n",
    "    game_over = False\n",
    "    snake_x = 45\n",
    "    snake_y = 55\n",
    "    velocity_x = 0\n",
    "    velocity_y = 0\n",
    "    snk_list = []\n",
    "    snk_length = 1\n",
    "    \n",
    "    \n",
    "    \n",
    "    \n",
    "    food_x = random.randint(20,screen_width/2)\n",
    "    food_y = random.randint(20,screen_height/2)\n",
    "    score = 0\n",
    "    init_velocity = 5\n",
    "    snake_size = 30\n",
    "    fps = 60\n",
    "    \n",
    "    \n",
    "    while not exit_game:\n",
    "        if game_over:\n",
    "            gameWindow.fill(white)\n",
    "            text_screen('Game over press enter to restart!',red, 100 , 250)\n",
    "            \n",
    "            \n",
    "            for event in pygame.event.get():\n",
    "                if event.type == pygame.QUIT:\n",
    "                    exit_game = True\n",
    "                \n",
    "                if event.type == pygame.KEYDOWN:\n",
    "                    if event.key == pygame.K_RETURN:\n",
    "                        start_on = False\n",
    "                        gameloop()\n",
    "        else:\n",
    "            for event in pygame.event.get():\n",
    "                if event.type == pygame.QUIT:\n",
    "                        exit_game = True\n",
    "                if event.type == pygame.KEYDOWN:\n",
    "                    if event.key == pygame.K_RIGHT:\n",
    "                        velocity_x = init_velocity\n",
    "                        velocity_y = 0\n",
    "                        \n",
    "                    if event.key == pygame.K_LEFT:\n",
    "                        velocity_x = -init_velocity\n",
    "                        velocity_y = 0\n",
    "                        \n",
    "                    if event.key == pygame.K_UP:\n",
    "                        velocity_y = -init_velocity\n",
    "                        velocity_x = 0  \n",
    "                        \n",
    "                    if event.key == pygame.K_DOWN:\n",
    "                        velocity_y = init_velocity\n",
    "                        velocity_x = 0 \n",
    "                        \n",
    "                        \n",
    "            snake_x += velocity_x\n",
    "            snake_y += velocity_y\n",
    "            \n",
    "            \n",
    "            if abs(snake_x - food_x) < 6 and abs(snake_y - food_y) < 6:\n",
    "                score += 1\n",
    "                food_x = random.randint(20,screen_width/2)\n",
    "                food_y = random.randint(20,screen_height/2)\n",
    "                snk_length += 5\n",
    "                \n",
    "            gameWindow.fill(white)\n",
    "            text_screen(\"Score:\" +str(score*10),red,5,5)\n",
    "            pygame.draw.rect(gameWindow,red,[food_x,food_y,snake_size,snake_size])\n",
    "            \n",
    "            \n",
    "            head=[]\n",
    "            head.append(snake_x)\n",
    "            head.append(snake_y)\n",
    "            snk_list.append(head)\n",
    "            \n",
    "            \n",
    "            if len(snk_list)> snk_length:\n",
    "                del snk_list[0]\n",
    "            if head in snk_list[:-1]:\n",
    "                game_over = True\n",
    "            if snake_x <0 or snake_x> screen_width or snake_y<0 or snake_y > screen_height:\n",
    "                game_over = True\n",
    "            plot_snake(gameWindow,black,snk_list,snake_size)\n",
    "        pygame.display.update()\n",
    "        clock.tick(fps)\n",
    "        \n",
    "    pygame.quit()\n",
    "    quit()\n",
    "    \n",
    "gameloop()    \n",
    "    \n",
    "    \n",
    "    \n",
    "    \n",
    "    \n",
    "    \n",
    "        \n",
    "        \n",
    "        \n",
    "        \n",
    "        "
   ]
  },
  {
   "cell_type": "code",
   "execution_count": null,
   "metadata": {
    "collapsed": true
   },
   "outputs": [],
   "source": []
  }
 ],
 "metadata": {
  "kernelspec": {
   "display_name": "Python 3",
   "language": "python",
   "name": "python3"
  },
  "language_info": {
   "codemirror_mode": {
    "name": "ipython",
    "version": 3
   },
   "file_extension": ".py",
   "mimetype": "text/x-python",
   "name": "python",
   "nbconvert_exporter": "python",
   "pygments_lexer": "ipython3",
   "version": "3.6.3"
  }
 },
 "nbformat": 4,
 "nbformat_minor": 2
}
